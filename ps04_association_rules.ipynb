{
 "cells": [
  {
   "cell_type": "markdown",
   "metadata": {},
   "source": [
    "# Practice Session 04: Basket analysis"
   ]
  },
  {
   "cell_type": "markdown",
   "metadata": {},
   "source": [
    "Author: Tània Pazos Puig\n",
    "\n",
    "E-mail: tania.pazos01@inssobreques.upf.edu\n",
    "\n",
    "Date: 16/10/2024"
   ]
  },
  {
   "cell_type": "code",
   "execution_count": 1,
   "metadata": {},
   "outputs": [],
   "source": [
    "import numpy as np  \n",
    "import matplotlib.pyplot as plt  \n",
    "import pandas as pd  \n",
    "import csv\n",
    "import gzip\n",
    "\n",
    "from apyori import apriori"
   ]
  },
  {
   "cell_type": "markdown",
   "metadata": {},
   "source": [
    "# 1. Playing with apyori"
   ]
  },
  {
   "cell_type": "markdown",
   "metadata": {},
   "source": [
    "The function below prints the output of the apyori library in a readable format. We will later use it to print the results of our association rules mining."
   ]
  },
  {
   "cell_type": "code",
   "execution_count": 2,
   "metadata": {},
   "outputs": [],
   "source": [
    "# LEAVE AS-IS\n",
    "\n",
    "def print_apyori_output (association_results, info=False, info_key=False):\n",
    "    for relation_record in association_results:\n",
    "        itemset = list(relation_record.items)\n",
    "        \n",
    "        # Consider only itemsets of two elements\n",
    "        if len(itemset) > 1: \n",
    "        \n",
    "            print(\"Rules involving itemset %s\" % itemset)\n",
    "            support = relation_record.support\n",
    "\n",
    "            for rules in relation_record.ordered_statistics:\n",
    "                antecedent = list(rules.items_base)\n",
    "                consequent = list(rules.items_add)\n",
    "                \n",
    "                if info_key:\n",
    "                    antecedent = [info.loc[x][info_key] for x in antecedent]\n",
    "                    consequent = [info.loc[x][info_key] for x in consequent]\n",
    "                \n",
    "                confidence = rules.confidence\n",
    "                lift = rules.lift\n",
    "\n",
    "                print(\"%s => %s (support=%.4f, confidence=%.2f, lift=%.2f)\" %\n",
    "                      (antecedent, consequent, support, confidence, lift))\n",
    "            print()"
   ]
  },
  {
   "cell_type": "markdown",
   "metadata": {},
   "source": [
    "We now define a set of 23 transactions representing supermarket baskets."
   ]
  },
  {
   "cell_type": "code",
   "execution_count": 3,
   "metadata": {},
   "outputs": [],
   "source": [
    "transactions = [\n",
    "    ['Almond Milk', 'Tofu', 'Olive Oil'],\n",
    "    ['Beer', 'Crisps', 'Olives'], \n",
    "    ['Almond Milk', 'Rice Milk', 'Olive Oil'],\n",
    "    ['Almond Milk', 'Tofu', 'Tomatoes', 'Banana', 'Olive Oil'],\n",
    "    ['Bread', 'Butter', 'Jam'], \n",
    "    ['Jam', 'Eggs', 'Bread', 'Butter'], \n",
    "    ['Eggs', 'Cheese'],\n",
    "    ['Rice Milk', 'Almond Milk', 'Tofu', 'Strawberries'],\n",
    "    ['Straweberries', 'Sugar', 'Cream'],\n",
    "    ['Bread', 'Olive Oil', 'Almond MIlk', 'Tofu'],\n",
    "    ['Beer', 'Olives', 'Cheese', 'Crisps', 'Bread'], \n",
    "    ['Eggs', 'Butter', 'Cheese', 'Tomatoes'],\n",
    "    ['Pickles', 'Cheese', 'Meat'],\n",
    "    ['Meat', 'Bread', 'Pickles'],\n",
    "    ['Mayo', 'Bread', 'Pickles', 'Crisps', 'Beer', 'Olives'], \n",
    "    ['Jam', 'Biscuits', 'Butter', 'Bread'], \n",
    "    ['Tofu', 'Blueberries', 'Almond Milk', 'Olive Oil'],\n",
    "    ['Pickles', 'Eggs', 'Butter', 'Meat'],\n",
    "    ['Crisps', 'Mayo', 'Bread', 'Cheese'],\n",
    "    ['Strawberries', 'Cream', 'Tofu', 'Almond Milk'],\n",
    "    ['Crisps', 'Olives', 'Beer', 'Mayo'], \n",
    "    ['Tofu', 'Olive Oil', 'Almond Milk', 'Bread', 'Pickles'],\n",
    "    ['Eggs', 'Cheese', 'Pickles', 'Crisps', 'Meat'],\n",
    "]"
   ]
  },
  {
   "cell_type": "markdown",
   "metadata": {},
   "source": [
    "Now we will printout all the rules we have obtained, and for two particular rules (['Beer', 'Crisps'] => ['Olives'] and ['Jam', 'Butter'] => ['Bread']) indicate how the support, confidence, and lift is calculated."
   ]
  },
  {
   "cell_type": "code",
   "execution_count": 4,
   "metadata": {},
   "outputs": [
    {
     "name": "stdout",
     "output_type": "stream",
     "text": [
      "Rules involving itemset ['Beer', 'Crisps']\n",
      "['Beer'] => ['Crisps'] (support=0.1739, confidence=1.00, lift=3.83)\n",
      "\n",
      "Rules involving itemset ['Beer', 'Olives']\n",
      "['Beer'] => ['Olives'] (support=0.1739, confidence=1.00, lift=5.75)\n",
      "['Olives'] => ['Beer'] (support=0.1739, confidence=1.00, lift=5.75)\n",
      "\n",
      "Rules involving itemset ['Bread', 'Jam']\n",
      "['Jam'] => ['Bread'] (support=0.1304, confidence=1.00, lift=2.56)\n",
      "\n",
      "Rules involving itemset ['Butter', 'Jam']\n",
      "['Jam'] => ['Butter'] (support=0.1304, confidence=1.00, lift=4.60)\n",
      "\n",
      "Rules involving itemset ['Crisps', 'Mayo']\n",
      "['Mayo'] => ['Crisps'] (support=0.1304, confidence=1.00, lift=3.83)\n",
      "\n",
      "Rules involving itemset ['Crisps', 'Olives']\n",
      "['Olives'] => ['Crisps'] (support=0.1739, confidence=1.00, lift=3.83)\n",
      "\n",
      "Rules involving itemset ['Meat', 'Pickles']\n",
      "['Meat'] => ['Pickles'] (support=0.1739, confidence=1.00, lift=3.83)\n",
      "\n",
      "Rules involving itemset ['Beer', 'Crisps', 'Olives']\n",
      "['Beer'] => ['Crisps', 'Olives'] (support=0.1739, confidence=1.00, lift=5.75)\n",
      "['Olives'] => ['Beer', 'Crisps'] (support=0.1739, confidence=1.00, lift=5.75)\n",
      "['Beer', 'Crisps'] => ['Olives'] (support=0.1739, confidence=1.00, lift=5.75)\n",
      "['Beer', 'Olives'] => ['Crisps'] (support=0.1739, confidence=1.00, lift=3.83)\n",
      "['Crisps', 'Olives'] => ['Beer'] (support=0.1739, confidence=1.00, lift=5.75)\n",
      "\n",
      "Rules involving itemset ['Bread', 'Butter', 'Jam']\n",
      "['Jam'] => ['Bread', 'Butter'] (support=0.1304, confidence=1.00, lift=7.67)\n",
      "['Bread', 'Butter'] => ['Jam'] (support=0.1304, confidence=1.00, lift=7.67)\n",
      "['Bread', 'Jam'] => ['Butter'] (support=0.1304, confidence=1.00, lift=4.60)\n",
      "['Butter', 'Jam'] => ['Bread'] (support=0.1304, confidence=1.00, lift=2.56)\n",
      "\n"
     ]
    }
   ],
   "source": [
    "results = list(apriori(transactions, min_support=0.1, min_confidence=0.9, min_lift=1.0))\n",
    "print_apyori_output(results)"
   ]
  },
  {
   "cell_type": "markdown",
   "metadata": {},
   "source": [
    "To compute the support of ['Beer', 'Crisps'] => ['Olives'], we count the number of transactions where 'Beer', 'Crisps', and 'Olives' appear together and divide by the total number of transactions. Hence, support(['Beer', 'Crisps'] => ['Olives']) = 4/23 = 0.1739. For the confidence, we divide the computed support over the support of the antecedent ['Beer', 'Crisps']. Since support(['Beer', 'Crisps']) = 0.1739, confidence(['Beer', 'Crisps'] => ['Olives']) = 0.1739/0.1739 = 1. Finally, to compute the lift of the rule we divide the support of the rule over the support of ['Beer', 'Crisps'] (0.1739) times the support of ['Olives'] (4/23 = 0.1439). Hence, lift(['Beer', 'Crisps'] => ['Olives']) = 0.1739 / (0.1739 x 0.1739) = 5.75. <p>\n",
    "Similarly, support(['Jam', 'Butter'] => ['Bread']) = 3/23 = 0.1304, confidence(['Jam', 'Butter'] => ['Bread']) = 0.1304 / 0.1304 = 1, and lift(['Jam', 'Butter'] => ['Bread']) = 0.1304 / (0.1304 x 0.3913) = 2.56."
   ]
  },
  {
   "cell_type": "markdown",
   "metadata": {},
   "source": [
    "# 2. Load and prepare the shopping baskets"
   ]
  },
  {
   "cell_type": "markdown",
   "metadata": {},
   "source": [
    "The following code loads the information about products into a dataframe indexed by product id."
   ]
  },
  {
   "cell_type": "code",
   "execution_count": 5,
   "metadata": {},
   "outputs": [
    {
     "data": {
      "text/html": [
       "<div>\n",
       "<style scoped>\n",
       "    .dataframe tbody tr th:only-of-type {\n",
       "        vertical-align: middle;\n",
       "    }\n",
       "\n",
       "    .dataframe tbody tr th {\n",
       "        vertical-align: top;\n",
       "    }\n",
       "\n",
       "    .dataframe thead th {\n",
       "        text-align: right;\n",
       "    }\n",
       "</style>\n",
       "<table border=\"1\" class=\"dataframe\">\n",
       "  <thead>\n",
       "    <tr style=\"text-align: right;\">\n",
       "      <th></th>\n",
       "      <th>product_name</th>\n",
       "      <th>department_id</th>\n",
       "    </tr>\n",
       "    <tr>\n",
       "      <th>product_id</th>\n",
       "      <th></th>\n",
       "      <th></th>\n",
       "    </tr>\n",
       "  </thead>\n",
       "  <tbody>\n",
       "    <tr>\n",
       "      <th>1</th>\n",
       "      <td>Chocolate Sandwich Cookies</td>\n",
       "      <td>19</td>\n",
       "    </tr>\n",
       "    <tr>\n",
       "      <th>2</th>\n",
       "      <td>All-Seasons Salt</td>\n",
       "      <td>13</td>\n",
       "    </tr>\n",
       "    <tr>\n",
       "      <th>3</th>\n",
       "      <td>Robust Golden Unsweetened Oolong Tea</td>\n",
       "      <td>7</td>\n",
       "    </tr>\n",
       "    <tr>\n",
       "      <th>4</th>\n",
       "      <td>Smart Ones Classic Favorites Mini Rigatoni Wit...</td>\n",
       "      <td>1</td>\n",
       "    </tr>\n",
       "    <tr>\n",
       "      <th>5</th>\n",
       "      <td>Green Chile Anytime Sauce</td>\n",
       "      <td>13</td>\n",
       "    </tr>\n",
       "    <tr>\n",
       "      <th>...</th>\n",
       "      <td>...</td>\n",
       "      <td>...</td>\n",
       "    </tr>\n",
       "    <tr>\n",
       "      <th>96</th>\n",
       "      <td>Sprinklez Confetti Fun Organic Toppings</td>\n",
       "      <td>13</td>\n",
       "    </tr>\n",
       "    <tr>\n",
       "      <th>97</th>\n",
       "      <td>Organic Chamomile Lemon Tea</td>\n",
       "      <td>7</td>\n",
       "    </tr>\n",
       "    <tr>\n",
       "      <th>98</th>\n",
       "      <td>2% Yellow American Cheese</td>\n",
       "      <td>16</td>\n",
       "    </tr>\n",
       "    <tr>\n",
       "      <th>99</th>\n",
       "      <td>Local Living Butter Lettuce</td>\n",
       "      <td>4</td>\n",
       "    </tr>\n",
       "    <tr>\n",
       "      <th>100</th>\n",
       "      <td>Peanut Butter &amp; Strawberry Jam Sandwich</td>\n",
       "      <td>1</td>\n",
       "    </tr>\n",
       "  </tbody>\n",
       "</table>\n",
       "<p>100 rows × 2 columns</p>\n",
       "</div>"
      ],
      "text/plain": [
       "                                                 product_name  department_id\n",
       "product_id                                                                  \n",
       "1                                  Chocolate Sandwich Cookies             19\n",
       "2                                            All-Seasons Salt             13\n",
       "3                        Robust Golden Unsweetened Oolong Tea              7\n",
       "4           Smart Ones Classic Favorites Mini Rigatoni Wit...              1\n",
       "5                                   Green Chile Anytime Sauce             13\n",
       "...                                                       ...            ...\n",
       "96                    Sprinklez Confetti Fun Organic Toppings             13\n",
       "97                                Organic Chamomile Lemon Tea              7\n",
       "98                                  2% Yellow American Cheese             16\n",
       "99                                Local Living Butter Lettuce              4\n",
       "100                   Peanut Butter & Strawberry Jam Sandwich              1\n",
       "\n",
       "[100 rows x 2 columns]"
      ]
     },
     "execution_count": 5,
     "metadata": {},
     "output_type": "execute_result"
    }
   ],
   "source": [
    "# LEAVE AS-IS\n",
    "\n",
    "# File names\n",
    "INPUT_PRODUCTS = \"data/instacart/instacart-products.csv\"\n",
    "INPUT_TRANSACTIONS = \"data/instacart/instacart-transactions.csv.gz\"\n",
    "\n",
    "# Read into a dataframe\n",
    "products = pd.read_csv(INPUT_PRODUCTS, delimiter=\",\")\n",
    "\n",
    "# Set product_id as index, and drop column aisle_id\n",
    "products = products.set_index('product_id').drop(columns=['aisle_id'])\n",
    "\n",
    "products.head(100)"
   ]
  },
  {
   "cell_type": "markdown",
   "metadata": {},
   "source": [
    "## 2.1. Select by department"
   ]
  },
  {
   "cell_type": "markdown",
   "metadata": {},
   "source": [
    "As this file is large and complex, we will focus on one or two departments and try to get some conclusions about the products in those departments. The following code lists some department names."
   ]
  },
  {
   "cell_type": "code",
   "execution_count": 6,
   "metadata": {},
   "outputs": [],
   "source": [
    "# LEAVE AS-IS\n",
    "\n",
    "DEPT_BAKERY = 3\n",
    "DEPT_VEGGIES = 4\n",
    "DEPT_ALCOHOL = 5\n",
    "DEPT_WORLD = 6\n",
    "DEPT_DRINKS = 7\n",
    "DEPT_PETS = 8\n",
    "DEPT_PHARMACY = 11\n",
    "DEPT_CLEANING = 17\n",
    "DEPT_BABIES = 18"
   ]
  },
  {
   "cell_type": "markdown",
   "metadata": {},
   "source": [
    "The function below `select_from_departments` takes as input a dataframe containing product information, a list of product ids, and a list of department ids. It returns a list containing only the product ids that belong to one of the listed departments. "
   ]
  },
  {
   "cell_type": "code",
   "execution_count": 7,
   "metadata": {},
   "outputs": [],
   "source": [
    "def select_from_departments(products, product_ids, department_ids):\n",
    "    selected_prods = []\n",
    "    for product_id in product_ids:\n",
    "        if products.loc[product_id].department_id in department_ids:\n",
    "            selected_prods.append(product_id)\n",
    "    return selected_prods"
   ]
  },
  {
   "cell_type": "markdown",
   "metadata": {},
   "source": [
    "We now test our function by passing it a list of products and ensuring it selects only the products in the 1, 2, or 3 departments we specify. Each test case will print:\n",
    "\n",
    "* The product name and department id of each item in the input list.\n",
    "* The product name and department id of each item in the output list, i.e. the selected products list."
   ]
  },
  {
   "cell_type": "code",
   "execution_count": 8,
   "metadata": {},
   "outputs": [],
   "source": [
    "def print_test_case(products, product_ids, selected_products):\n",
    "    print(\"\\nTest case:\")\n",
    "    print(product_ids)\n",
    "    \n",
    "    print(\"\\nInput products:\")\n",
    "    for product_id in product_ids:\n",
    "        product_name = products.loc[product_id].product_name\n",
    "        department_id = products.loc[product_id].department_id\n",
    "        print(f\"{product_id} {product_name} (dept {department_id})\")\n",
    "    \n",
    "    print(\"\\nSelected products:\")\n",
    "    for product_id in selected_products:\n",
    "        product_name = products.loc[product_id].product_name\n",
    "        department_id = products.loc[product_id].department_id\n",
    "        print(f\"{product_id} {product_name} (dept {department_id})\")"
   ]
  },
  {
   "cell_type": "code",
   "execution_count": 9,
   "metadata": {},
   "outputs": [
    {
     "name": "stdout",
     "output_type": "stream",
     "text": [
      "\n",
      "Test case:\n",
      "[22, 26, 45, 54, 57, 71, 111, 112]\n",
      "\n",
      "Input products:\n",
      "22 Fresh Breath Oral Rinse Mild Mint (dept 11)\n",
      "26 Fancy Feast Trout Feast Flaked Wet Cat Food (dept 8)\n",
      "45 European Cucumber (dept 4)\n",
      "54 24/7 Performance Cat Litter (dept 8)\n",
      "57 Flat Toothpicks (dept 17)\n",
      "71 Ultra 7 Inch Polypropylene Traditional Plates (dept 17)\n",
      "111 Fabric Softener, Geranium Scent (dept 17)\n",
      "112 Hot Tomatillo Salsa (dept 13)\n",
      "\n",
      "Selected products:\n",
      "57 Flat Toothpicks (dept 17)\n",
      "71 Ultra 7 Inch Polypropylene Traditional Plates (dept 17)\n",
      "111 Fabric Softener, Geranium Scent (dept 17)\n",
      "\n",
      "Test case:\n",
      "[35, 216, 599, 830, 40, 99, 613, 980]\n",
      "\n",
      "Input products:\n",
      "35 Italian Herb Porcini Mushrooms Chicken Sausage (dept 12)\n",
      "216 Gluten Free Oatmeal, Variety Pack (dept 14)\n",
      "599 Floor Care Tile & Vinyl Floor Finish Clean Scent (dept 17)\n",
      "830 Skinny Wheat Buns (dept 3)\n",
      "40 Beef Hot Links Beef Smoked Sausage With Chile Peppers (dept 12)\n",
      "99 Local Living Butter Lettuce (dept 4)\n",
      "613 Infinity Always Infinity Size 2 Super Pads with Wings, Unscented, 16 ct Feminine Care (dept 11)\n",
      "980 Automatic Toilet Bowl Cleaner with Bleach (dept 17)\n",
      "\n",
      "Selected products:\n",
      "613 Infinity Always Infinity Size 2 Super Pads with Wings, Unscented, 16 ct Feminine Care (dept 11)\n",
      "\n",
      "Test case:\n",
      "[489, 312, 25, 742, 514, 101, 206, 895]\n",
      "\n",
      "Input products:\n",
      "489 Dough for Turnover Pastries (dept 1)\n",
      "312 Juicing Carrots (dept 4)\n",
      "25 Salted Caramel Lean Protein & Fiber Bar (dept 19)\n",
      "742 Organic Raw Coconut Aminos (dept 13)\n",
      "514 Freezer Safe Pint Jars Wide Mouth (dept 17)\n",
      "101 Bread, Healthy Whole Grain (dept 3)\n",
      "206 Roasted Vegetable Soufflé (dept 1)\n",
      "895 YoKids Squeeze Organic Blueberry Blue Yogurt (dept 16)\n",
      "\n",
      "Selected products:\n",
      "312 Juicing Carrots (dept 4)\n"
     ]
    }
   ],
   "source": [
    "test_case1 = [22, 26, 45, 54, 57, 71, 111, 112]\n",
    "departments_to_select1 = [DEPT_BAKERY, DEPT_CLEANING]\n",
    "selected_prods1 = select_from_departments(products, test_case1, departments_to_select1)\n",
    "\n",
    "test_case2 = [35, 216, 599, 830, 40, 99, 613, 980]\n",
    "departments_to_select2 = [DEPT_PETS, DEPT_PHARMACY, DEPT_BABIES]\n",
    "selected_prods2 = select_from_departments(products, test_case2, departments_to_select2)\n",
    "\n",
    "test_case3 = [489, 312, 25, 742, 514, 101, 206, 895]\n",
    "departments_to_select3 = [DEPT_VEGGIES, DEPT_ALCOHOL]\n",
    "selected_prods3 = select_from_departments(products, test_case3, departments_to_select3)\n",
    "\n",
    "print_test_case(products, test_case1, selected_prods1)\n",
    "print_test_case(products, test_case2, selected_prods2)\n",
    "print_test_case(products, test_case3, selected_prods3)"
   ]
  },
  {
   "cell_type": "markdown",
   "metadata": {},
   "source": [
    "## 2.2. Read and filter transactions"
   ]
  },
  {
   "cell_type": "markdown",
   "metadata": {},
   "source": [
    "The code below reads the transactions file and keeps only those transactions with at least one item in the specified target departments. These transactions are stored into an array named `transactions`. We stop the code after storing 5000 of the transactions read. Every 1000 transactions read, we print the number of transactions read and the number of transactions stored."
   ]
  },
  {
   "cell_type": "code",
   "execution_count": 10,
   "metadata": {},
   "outputs": [],
   "source": [
    "def extract_transactions_by_departments(target_departments, max_transactions = 5000):\n",
    "\n",
    "    transactions = []\n",
    "    transactions_read = 0 # Count number of transactions read\n",
    "\n",
    "    # Open the compressed input file\n",
    "    with gzip.open(INPUT_TRANSACTIONS, \"rt\") as inputfile:\n",
    "\n",
    "        # Create a CSV reader\n",
    "        reader = csv.reader(inputfile, delimiter=\",\")\n",
    "\n",
    "        # Iterate through the CSV file\n",
    "        for row in reader:\n",
    "\n",
    "            transactions_read += 1\n",
    "\n",
    "            # Convert to integers\n",
    "            items = [int(x) for x in row]\n",
    "\n",
    "            filtered_items = [item for item in items if products.loc[item].department_id in target_departments]\n",
    "\n",
    "            # If there are filtered items, store the transaction\n",
    "            if filtered_items:\n",
    "                transactions.append(filtered_items)\n",
    "\n",
    "            # Print status every 1000 transactions read\n",
    "            if transactions_read % 1000 == 0:\n",
    "                print(f\"Transactions read: {transactions_read}, Transactions stored: {len(transactions)}\")\n",
    "\n",
    "            # Stop reading when 5000 transactions stored\n",
    "            if len(transactions) >= 5000:\n",
    "                break\n",
    " \n",
    "    return transactions"
   ]
  },
  {
   "cell_type": "markdown",
   "metadata": {},
   "source": [
    "To test our function, we filter out those transactions that do not contain any item in `DEPT_PHARMACY`."
   ]
  },
  {
   "cell_type": "code",
   "execution_count": 11,
   "metadata": {},
   "outputs": [
    {
     "name": "stdout",
     "output_type": "stream",
     "text": [
      "Transactions read: 1000, Transactions stored: 102\n",
      "Transactions read: 2000, Transactions stored: 219\n",
      "Transactions read: 3000, Transactions stored: 313\n",
      "Transactions read: 4000, Transactions stored: 422\n",
      "Transactions read: 5000, Transactions stored: 526\n",
      "Transactions read: 6000, Transactions stored: 619\n",
      "Transactions read: 7000, Transactions stored: 722\n",
      "Transactions read: 8000, Transactions stored: 810\n",
      "Transactions read: 9000, Transactions stored: 920\n",
      "Transactions read: 10000, Transactions stored: 1046\n",
      "Transactions read: 11000, Transactions stored: 1152\n",
      "Transactions read: 12000, Transactions stored: 1245\n",
      "Transactions read: 13000, Transactions stored: 1352\n",
      "Transactions read: 14000, Transactions stored: 1459\n",
      "Transactions read: 15000, Transactions stored: 1559\n",
      "Transactions read: 16000, Transactions stored: 1663\n",
      "Transactions read: 17000, Transactions stored: 1753\n",
      "Transactions read: 18000, Transactions stored: 1854\n",
      "Transactions read: 19000, Transactions stored: 1943\n",
      "Transactions read: 20000, Transactions stored: 2066\n",
      "Transactions read: 21000, Transactions stored: 2184\n",
      "Transactions read: 22000, Transactions stored: 2284\n",
      "Transactions read: 23000, Transactions stored: 2375\n",
      "Transactions read: 24000, Transactions stored: 2480\n",
      "Transactions read: 25000, Transactions stored: 2588\n",
      "Transactions read: 26000, Transactions stored: 2705\n",
      "Transactions read: 27000, Transactions stored: 2806\n",
      "Transactions read: 28000, Transactions stored: 2903\n",
      "Transactions read: 29000, Transactions stored: 2999\n",
      "Transactions read: 30000, Transactions stored: 3091\n",
      "Transactions read: 31000, Transactions stored: 3194\n",
      "Transactions read: 32000, Transactions stored: 3307\n",
      "Transactions read: 33000, Transactions stored: 3408\n",
      "Transactions read: 34000, Transactions stored: 3503\n",
      "Transactions read: 35000, Transactions stored: 3595\n",
      "Transactions read: 36000, Transactions stored: 3703\n",
      "Transactions read: 37000, Transactions stored: 3813\n",
      "Transactions read: 38000, Transactions stored: 3912\n",
      "Transactions read: 39000, Transactions stored: 4019\n",
      "Transactions read: 40000, Transactions stored: 4119\n",
      "Transactions read: 41000, Transactions stored: 4210\n",
      "Transactions read: 42000, Transactions stored: 4310\n",
      "Transactions read: 43000, Transactions stored: 4419\n",
      "Transactions read: 44000, Transactions stored: 4524\n",
      "Transactions read: 45000, Transactions stored: 4633\n",
      "Transactions read: 46000, Transactions stored: 4731\n",
      "Transactions read: 47000, Transactions stored: 4822\n",
      "Transactions read: 48000, Transactions stored: 4926\n"
     ]
    }
   ],
   "source": [
    "target_departments = [DEPT_PHARMACY]\n",
    "transactions_pharmacy = extract_transactions_by_departments(target_departments)"
   ]
  },
  {
   "cell_type": "markdown",
   "metadata": {},
   "source": [
    "And check that each transaction in `transactions_pharmacy` contains at least one item belonging to `DEPT_PHARMACY` (11)."
   ]
  },
  {
   "cell_type": "code",
   "execution_count": 12,
   "metadata": {},
   "outputs": [
    {
     "name": "stdout",
     "output_type": "stream",
     "text": [
      "[11]\n",
      "[11]\n",
      "[11, 11]\n",
      "[11]\n",
      "[11]\n"
     ]
    }
   ],
   "source": [
    "for transaction in transactions_pharmacy[:5]:\n",
    "    print([products.loc[item, 'department_id'] for item in transaction])"
   ]
  },
  {
   "cell_type": "markdown",
   "metadata": {},
   "source": [
    "## 2.3. Extract association rules and comment on them"
   ]
  },
  {
   "cell_type": "markdown",
   "metadata": {},
   "source": [
    "Now, we will run the association rules mining algorithm over the selected transactions."
   ]
  },
  {
   "cell_type": "code",
   "execution_count": 13,
   "metadata": {},
   "outputs": [
    {
     "name": "stdout",
     "output_type": "stream",
     "text": [
      "Rules involving itemset [16825, 1406]\n",
      "['Vegan Nutritional Shake Sweet Vanilla Bean'] => ['Vegan Smooth Chocolate Nutritional Shake'] (support=0.0012, confidence=0.40, lift=80.00)\n",
      "['Vegan Smooth Chocolate Nutritional Shake'] => ['Vegan Nutritional Shake Sweet Vanilla Bean'] (support=0.0012, confidence=0.24, lift=80.00)\n",
      "\n",
      "Rules involving itemset [7976, 16019]\n",
      "['One Plant-Based Chocolate Flavor Nutritional Shake Drink Mix'] => ['All-In-One French Vanilla Nutritional Shake Sachet'] (support=0.0010, confidence=0.31, lift=97.66)\n",
      "['All-In-One French Vanilla Nutritional Shake Sachet'] => ['One Plant-Based Chocolate Flavor Nutritional Shake Drink Mix'] (support=0.0010, confidence=0.31, lift=97.66)\n",
      "\n",
      "Rules involving itemset [27544, 39162]\n",
      "['Lemon Verbena Hand Soap'] => ['Clean Day Basil Hand Soap'] (support=0.0018, confidence=0.12, lift=11.21)\n",
      "['Clean Day Basil Hand Soap'] => ['Lemon Verbena Hand Soap'] (support=0.0018, confidence=0.16, lift=11.21)\n",
      "\n"
     ]
    }
   ],
   "source": [
    "# Set parameters for the apriori algorithm\n",
    "min_support = 0.001\n",
    "min_confidence = 0.1\n",
    "min_lift = 5\n",
    "\n",
    "results = list(apriori(transactions_pharmacy, min_support=min_support, min_confidence=min_confidence, min_lift=min_lift))\n",
    "\n",
    "print_apyori_output(results, products, 'product_name')"
   ]
  },
  {
   "cell_type": "markdown",
   "metadata": {},
   "source": [
    "Firstly, rules involving itemset [16825, 1406] indicate that customers buying 'Vegan Nutritional Shake Sweet Vanilla Bean' are likely to also buy 'Vegan Smooth Chocolate Nutritional Shake' and viceversa. This itemset is present in 0.12% of all transactions. What is more, 40% of customers who buy Sweet Vanilla Bean shake also buy Smooth Chocolate Shake. Hence, the app could display the Vegan Smooth Chocolate Nutritional Shake to customers who have added the Sweet Vanilla Bean flavor to their cart. The value of 80.00 for the lift shows that there is a very high likelihood that the two shakes are bought together. <p> Similarly, rules regarding itemset [7976, 16019] show that if customers buy One Plant-Based Chocolate Flavor Nutritional Shake Drink Mix they are likely to buy All-In-One French Vanilla Nutritional Shake Sachet and viceversa. Although the support and confidence do not significantly differ from the previous example, the high lift of the rule (97.66) suggests that implementing an offer discount for purchasing both items together could be an effective strategy. <p> Finally, rules involving hand soaps (itemset [27544, 39162]) indicate that 12% of customers who buy Lemon Verbena Hand Soap also buy Clean Day Basil Hand Soap. However, the lift of the rule suggests there is a moderate relationship between the hand soaps. To increase sales of both items, the shopping app could make the client receive a discount for the Clean Day Basil Soap after buying the Lemon Verbena."
   ]
  },
  {
   "cell_type": "markdown",
   "metadata": {},
   "source": [
    "## 2.4. Extract association rules and comment on them (other departments)"
   ]
  },
  {
   "cell_type": "markdown",
   "metadata": {},
   "source": [
    "The code below selects departments `DEPT_BAKERY` and `DEPT_VEGGIES` and extract transactions again. "
   ]
  },
  {
   "cell_type": "code",
   "execution_count": 14,
   "metadata": {},
   "outputs": [
    {
     "name": "stdout",
     "output_type": "stream",
     "text": [
      "Transactions read: 1000, Transactions stored: 817\n",
      "Transactions read: 2000, Transactions stored: 1600\n",
      "Transactions read: 3000, Transactions stored: 2400\n",
      "Transactions read: 4000, Transactions stored: 3193\n",
      "Transactions read: 5000, Transactions stored: 3971\n",
      "Transactions read: 6000, Transactions stored: 4749\n"
     ]
    }
   ],
   "source": [
    "target_departments = [DEPT_BAKERY, DEPT_VEGGIES]\n",
    "transactions_bakery_veggies = extract_transactions_by_departments(target_departments)"
   ]
  },
  {
   "cell_type": "markdown",
   "metadata": {},
   "source": [
    "We check that items in the transactions stored are from the specified departments."
   ]
  },
  {
   "cell_type": "code",
   "execution_count": 15,
   "metadata": {},
   "outputs": [
    {
     "name": "stdout",
     "output_type": "stream",
     "text": [
      "[4, 4, 4]\n",
      "[4, 4, 4, 3]\n",
      "[3]\n",
      "[4, 4, 4, 4, 4, 4, 4]\n",
      "[3]\n"
     ]
    }
   ],
   "source": [
    "for transaction in transactions_bakery_veggies[:5]:\n",
    "    print([products.loc[item, 'department_id'] for item in transaction])"
   ]
  },
  {
   "cell_type": "markdown",
   "metadata": {},
   "source": [
    "And we obtain the association rules."
   ]
  },
  {
   "cell_type": "code",
   "execution_count": 16,
   "metadata": {},
   "outputs": [
    {
     "name": "stdout",
     "output_type": "stream",
     "text": [
      "Rules involving itemset [43352, 16797]\n",
      "['Raspberries'] => ['Strawberries'] (support=0.0050, confidence=0.24, lift=4.24)\n",
      "\n",
      "Rules involving itemset [24964, 22935]\n",
      "['Organic Yellow Onion'] => ['Organic Garlic'] (support=0.0082, confidence=0.18, lift=4.03)\n",
      "['Organic Garlic'] => ['Organic Yellow Onion'] (support=0.0082, confidence=0.18, lift=4.03)\n",
      "\n",
      "Rules involving itemset [26209, 31717]\n",
      "['Limes'] => ['Organic Cilantro'] (support=0.0068, confidence=0.14, lift=5.34)\n",
      "['Organic Cilantro'] => ['Limes'] (support=0.0068, confidence=0.25, lift=5.34)\n",
      "\n",
      "Rules involving itemset [13176, 47209, 27966]\n",
      "['Organic Raspberries'] => ['Bag of Organic Bananas', 'Organic Hass Avocado'] (support=0.0056, confidence=0.10, lift=4.07)\n",
      "['Bag of Organic Bananas', 'Organic Hass Avocado'] => ['Organic Raspberries'] (support=0.0056, confidence=0.22, lift=4.07)\n",
      "\n"
     ]
    }
   ],
   "source": [
    "# Set parameters for the apriori algorithm\n",
    "min_support = 0.005\n",
    "min_confidence = 0.1\n",
    "min_lift = 4\n",
    "\n",
    "results2 = list(apriori(transactions_bakery_veggies, min_support=min_support, min_confidence=min_confidence, min_lift=min_lift))\n",
    "\n",
    "print_apyori_output(results2, products, 'product_name')"
   ]
  },
  {
   "cell_type": "markdown",
   "metadata": {},
   "source": [
    "The extracted association rules on `DEPT_FOOD` and `DEPT_VEGGIES` suggest strong relationships between several items. <p> Firstly, customers who purchase raspberries are likely to purchase strawberries. Indeed, the moderately high value of the lift (4.24) indicates that the two products are strongly correlated. Hence, it would be advisable to suggest strawberries when a client adds raspberries to their cart. <p> Secondly, we can observe a moderate association between organic yellow onions and organic garlics. This can be explained because onions and garlic appear together in many recipes. What is more, customers purchasing some organic product usually show preference for buying multiple organic items, rather than just a single product. This is the case of the last association rule, which shows that clients purchasing organic bananas and organic hass avocado are likely to also purchase organic raspberries. <p> The associaton between limes and organic cilantro suggests that customers generally buy them together as they are key ingredients in Mexican cuisine. Therefore, it would be a good idea to display limes in the shopping app right after customers have searched organic cilantro. <p> It should be noted that there is a lack of strong associations for bakery products compared to vegetables. This suggests that bakery items are bought more independently or not as frequently in combination with other bakery or vegetable items. Hence, the shopping app should focus more on personalized vegetable suggestions. It is also worth highlighting that, despite having the same number of transactions (5000) for both pharmacy and veggies-bakery departments, we were able to increase the minimum support threshold from 0.001 to 0.005 for veggies-bakery while still obtaining a similar number of association rules. This indicates that items from the veggie-bakery department (particularly from the veggie department) have more frequent item combinations than pharmacy items. However, the decrease in the lift value for veggies-bakery rules compared to pharmacy items indicates that pharmacy products are more likely to be co-purchased."
   ]
  },
  {
   "cell_type": "markdown",
   "metadata": {},
   "source": [
    "<font size=\"+2\" color=\"#003300\">I hereby declare that, except for the code provided by the course instructors, all of my code, report, and figures were produced by myself.</font>"
   ]
  }
 ],
 "metadata": {
  "kernelspec": {
   "display_name": "Python 3 (ipykernel)",
   "language": "python",
   "name": "python3"
  },
  "language_info": {
   "codemirror_mode": {
    "name": "ipython",
    "version": 3
   },
   "file_extension": ".py",
   "mimetype": "text/x-python",
   "name": "python",
   "nbconvert_exporter": "python",
   "pygments_lexer": "ipython3",
   "version": "3.11.5"
  }
 },
 "nbformat": 4,
 "nbformat_minor": 2
}
