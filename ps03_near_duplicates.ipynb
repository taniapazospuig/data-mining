{
 "cells": [
  {
   "cell_type": "markdown",
   "metadata": {},
   "source": [
    "# Practice Session 03: Find near-duplicates using shingling"
   ]
  },
  {
   "cell_type": "markdown",
   "metadata": {},
   "source": [
    "Author: Tània Pazos Puig\n",
    "\n",
    "E-mail: tania.pazos01@estudiant.upf.edu\n",
    "\n",
    "Date: 08/10/2024"
   ]
  },
  {
   "cell_type": "code",
   "execution_count": 1,
   "metadata": {},
   "outputs": [],
   "source": [
    "import io\n",
    "import json\n",
    "import gzip\n",
    "import re\n",
    "import random\n",
    "import numpy as np\n",
    "import matplotlib.pyplot as plt\n",
    "from timeit import default_timer as timer\n",
    "\n",
    "import datetime"
   ]
  },
  {
   "cell_type": "code",
   "execution_count": 47,
   "metadata": {},
   "outputs": [
    {
     "name": "stdout",
     "output_type": "stream",
     "text": [
      "Read 10000 documents\n"
     ]
    }
   ],
   "source": [
    "# KEEP AS-IS\n",
    "\n",
    "# Input file\n",
    "INPUT_FILENAME = \"data/covid-lockdown-catalonia/CovidLockdownCatalonia.json.gz\"\n",
    "\n",
    "# Array for storing messages\n",
    "messages = []\n",
    "\n",
    "# IMPORTANT:\n",
    "# 1. Set this to 1000 during development\n",
    "# 2. Set this to 10000 once you have completed the development, and answer part 5 with 10000\n",
    "# 3. Set this back to 1000 for delivering your code\n",
    "MAX_MESSAGES = 1000\n",
    "\n",
    "with gzip.open(INPUT_FILENAME, \"rt\", encoding=\"utf-8\") as input_file:\n",
    "    \n",
    "    messages_read = 0\n",
    "    for line in input_file:\n",
    "            \n",
    "        # Read message\n",
    "        tweet = json.loads(line)\n",
    "\n",
    "        # Keep only messages in Catalan\n",
    "        if tweet[\"lang\"] == \"ca\":\n",
    "            \n",
    "            messages_read += 1\n",
    "            \n",
    "            if messages_read <= MAX_MESSAGES:\n",
    "                author = tweet[\"user\"][\"screen_name\"]\n",
    "                message = tweet[\"full_text\"]\n",
    "                messages.append(message)\n",
    "\n",
    "print(\"Read %d documents\" % len(messages))"
   ]
  },
  {
   "cell_type": "markdown",
   "metadata": {},
   "source": [
    "# 1. Auxiliary functions"
   ]
  },
  {
   "cell_type": "markdown",
   "metadata": {},
   "source": [
    "The code below defines a function to implement Jaccard similarity between two lists."
   ]
  },
  {
   "cell_type": "code",
   "execution_count": 48,
   "metadata": {},
   "outputs": [],
   "source": [
    "def jaccard_similarity(list1, list2):\n",
    "    # Convert lists to sets\n",
    "    set1 = set(list1)\n",
    "    set2 = set(list2)\n",
    "    \n",
    "    intersection = set1.intersection(set2)\n",
    "    union = set1.union(set2)\n",
    "    \n",
    "    # Avoid division by zero\n",
    "    if(len(union) == 0): \n",
    "        return 0.0\n",
    "    \n",
    "    return len(intersection) / len(union)"
   ]
  },
  {
   "cell_type": "markdown",
   "metadata": {},
   "source": [
    "Now we perform the following test cases:\n",
    "\n",
    "1. Two arrays for which the jaccard similarity is 0.5\n",
    "1. Two arrays for which the jaccard similarity is 0.75\n",
    "1. Two empty arrays should have jaccard similarity 0.0\n",
    "1. Two arrays for which the jaccard similarity is 1.0"
   ]
  },
  {
   "cell_type": "code",
   "execution_count": 49,
   "metadata": {},
   "outputs": [
    {
     "name": "stdout",
     "output_type": "stream",
     "text": [
      "Test case 1: Jaccard similarity between ['a', 'b', 'c'] and ['b', 'c', 'd'] = 0.50\n",
      "Test case 2: Jaccard similarity between ['a', 'e', 'i'] and ['a', 'e', 'o', 'i'] = 0.75\n",
      "Test case 3: Jaccard similarity between [] and [] = 0.00\n",
      "Test case 4: Jaccard similarity between ['f', 'g', 'l'] and ['f', 'g', 'l'] = 1.00\n"
     ]
    }
   ],
   "source": [
    "test_cases = [\n",
    "    (['a', 'b', 'c'], ['b', 'c', 'd']),  \n",
    "    (['a', 'e', 'i'], ['a', 'e', 'o', 'i']), \n",
    "    ([], []),\n",
    "    (['f', 'g', 'l'], ['f', 'g', 'l'])\n",
    "]\n",
    "\n",
    "for i, (list1, list2) in enumerate(test_cases):\n",
    "    result = jaccard_similarity(list1, list2)\n",
    "    print(f\"Test case {i + 1}: Jaccard similarity between {list1} and {list2} = {result:.2f}\")"
   ]
  },
  {
   "cell_type": "markdown",
   "metadata": {},
   "source": [
    "The following function `clean` cleans-up text according to this specification: <p>\n",
    "1. Removing \"RT \" prefixes\n",
    "1. Converting to lowercase\n",
    "1. Romanizing text, replacing \"Ñ\" by \"n\", \"ñ\" by \"n\", \"ó\" by \"o\", \"à\" by \"a\", \"l·l\" by \"ll\", and so on.\n",
    "1. Removing URLs, both \"http\" and \"https\" ones.\n",
    "1. Removing spaces at the beginning and spaces at the end.\n",
    "1. Removing anything that remains that is not a letter or digit\n",
    "1. Changing double spaces to single spaces."
   ]
  },
  {
   "cell_type": "code",
   "execution_count": 50,
   "metadata": {},
   "outputs": [],
   "source": [
    "def clean(text):\n",
    "    if text.startswith(\"RT \"):\n",
    "        text = text[3:] # Remove first 3 characters from text\n",
    "        \n",
    "    text = text.lower() # Convert to lowercase\n",
    "    \n",
    "    # Romanize text\n",
    "    replacements = {\n",
    "        \"ñ\": \"n\", \"á\": \"a\", \"é\": \"e\", \"í\": \"i\", \"ó\": \"o\", \"ú\": \"u\", \n",
    "        \"à\": \"a\", \"è\": \"e\", \"ì\": \"i\", \"ò\": \"o\", \"ù\": \"u\",\n",
    "        \"ä\": \"a\", \"ë\": \"e\", \"ï\": \"i\", \"ö\": \"o\", \"ü\": \"u\",\n",
    "        \"ç\": \"c\", \"·\": \"\", \"l·l\": \"ll\", \"ß\": \"ss\"\n",
    "    }\n",
    "    \n",
    "    for char, replacement in replacements.items():\n",
    "         text = text.replace(char, replacement)\n",
    "    \n",
    "    # Remove anything that starts with \"http\" \n",
    "    # followed by one or more non-white space characters\n",
    "    text = re.sub(r'http\\S+', '', text)\n",
    "    \n",
    "    # Remove spaces at the beginning and at the end\n",
    "    text = text.strip()\n",
    "    \n",
    "    # Remove anything that is not a letter or a digit\n",
    "    text = re.sub(r'[^a-z0-9\\s]', '', text)\n",
    "    \n",
    "    # Change double spaces to single spaces\n",
    "    text = re.sub(r'\\s+', ' ', text)\n",
    "    \n",
    "    return text"
   ]
  },
  {
   "cell_type": "markdown",
   "metadata": {},
   "source": [
    "We pass five different texts to our function, including punctuation, non-Roman characters, URLs, etc. in order to test it."
   ]
  },
  {
   "cell_type": "code",
   "execution_count": 51,
   "metadata": {},
   "outputs": [
    {
     "name": "stdout",
     "output_type": "stream",
     "text": [
      "Test Case 1: Original: RT i am Tània and i love watching https://youtube.com \n",
      "Test Case 1: Cleaned:  i am tania and i love watching\n",
      "\n",
      "Test Case 2: Original: RT HOLA SÓC UN ESTUDIANT DE   CAÇADOR VULL AIGÜES I ÀMBITS$/ \n",
      "Test Case 2: Cleaned:  hola soc un estudiant de cacador vull aigues i ambits\n",
      "\n",
      "Test Case 3: Original: RT  colibrí Ò https://upf.edu\n",
      "Test Case 3: Cleaned:  colibri o\n",
      "\n",
      "Test Case 4: Original: RT learn more ABOUT caçadors ó leñadores I clorofil·la&! \n",
      "Test Case 4: Cleaned:  learn more about cacadors o lenadores i clorofilla\n",
      "\n",
      "Test Case 5: Original: RT @/t ù !!! http:youtube.com  \n",
      "Test Case 5: Cleaned:  t u \n",
      "\n"
     ]
    }
   ],
   "source": [
    "texts = [\"RT i am Tània and i love watching https://youtube.com \",\n",
    "    \"RT HOLA SÓC UN ESTUDIANT DE   CAÇADOR VULL AIGÜES I ÀMBITS$/ \", \n",
    "    \"RT  colibrí Ò https://upf.edu\",\n",
    "    \"RT learn more ABOUT caçadors ó leñadores I clorofil·la&! \", \n",
    "    \"RT @/t ù !!! http:youtube.com  \"\n",
    "]\n",
    "\n",
    "for i, text in enumerate(texts, 1):\n",
    "    cleaned_text = clean(text)\n",
    "    print(f\"Test Case {i}: Original: {text}\")\n",
    "    print(f\"Test Case {i}: Cleaned:  {cleaned_text}\\n\")"
   ]
  },
  {
   "cell_type": "markdown",
   "metadata": {},
   "source": [
    "# 2. Implement an n-gram extractor"
   ]
  },
  {
   "cell_type": "markdown",
   "metadata": {},
   "source": [
    "The code below implements the function `ngrams(text,size)`, which produces all sub-sequences of `size` words present in the text."
   ]
  },
  {
   "cell_type": "code",
   "execution_count": 52,
   "metadata": {},
   "outputs": [],
   "source": [
    "MIN_TOKEN_LENGTH = 3\n",
    "\n",
    "def ngrams(text, size):\n",
    "    tokens = clean(text).split()\n",
    "    \n",
    "    ngrams = []\n",
    "    \n",
    "    # Keep words with at least 3 characters\n",
    "    filt = [word for word in tokens if len(word) >= MIN_TOKEN_LENGTH]\n",
    "    \n",
    "    # Create n-grams of size from the filtered tokens\n",
    "    ngrams = [' '.join(filt[i:i+size]) for i in range(len(filt) - size + 1)]\n",
    "\n",
    "    return ngrams"
   ]
  },
  {
   "cell_type": "markdown",
   "metadata": {},
   "source": [
    "We perform some tests."
   ]
  },
  {
   "cell_type": "code",
   "execution_count": 53,
   "metadata": {},
   "outputs": [
    {
     "name": "stdout",
     "output_type": "stream",
     "text": [
      "Clam per la suspensió dels desnonaments en plena crisi pel coronavirus https://t.co/0g1AtSELwl\n",
      "['clam per suspensio', 'per suspensio dels', 'suspensio dels desnonaments', 'dels desnonaments plena', 'desnonaments plena crisi', 'plena crisi pel', 'crisi pel coronavirus']\n"
     ]
    }
   ],
   "source": [
    "print(messages[990])\n",
    "print(ngrams(messages[990], 3))"
   ]
  },
  {
   "cell_type": "markdown",
   "metadata": {},
   "source": [
    "# 3. Estimation of brute force all-pairs method"
   ]
  },
  {
   "cell_type": "markdown",
   "metadata": {},
   "source": [
    "The following code computes the time in seconds that it takes to compare all first *limit* messages against all first *limit* messages in the array."
   ]
  },
  {
   "cell_type": "code",
   "execution_count": 8,
   "metadata": {},
   "outputs": [],
   "source": [
    "# LEAVE AS-IS\n",
    "\n",
    "def time_brute_force_similarities(messages, limit, ngram_size):\n",
    "    if limit > len(messages):\n",
    "        raise ValueError(\"Limit should be less than or equal than the number of messages\")\n",
    "        \n",
    "    # Start a timer\n",
    "    start = timer()\n",
    "\n",
    "    # Iterate through document identifiers\n",
    "    for docid1 in range(np.min([len(messages), limit])):\n",
    "\n",
    "        # Clean document 1 and extract ngrams\n",
    "        doc1 = clean(messages[docid1])\n",
    "        ngrams1 = ngrams(doc1, ngram_size)\n",
    "\n",
    "        # Iterate through document identifiers larger than doc1\n",
    "        for docid2 in range(docid1+1, np.min([len(messages), limit])):\n",
    "                         \n",
    "            # Clean document 2 and extract ngrams\n",
    "            doc2 = clean(messages[docid2])\n",
    "            ngrams2 = ngrams(doc2, ngram_size)\n",
    "\n",
    "            # Compute similarity\n",
    "            similarity = jaccard_similarity(ngrams1, ngrams2)\n",
    "\n",
    "    end = timer()\n",
    "    return(end - start)"
   ]
  },
  {
   "cell_type": "markdown",
   "metadata": {},
   "source": [
    "Below we create a plot in which we have in the x axis the number of messages to check, and in the y axis the time it takes to check that many messages if we use ngrams of size 5."
   ]
  },
  {
   "cell_type": "code",
   "execution_count": 9,
   "metadata": {},
   "outputs": [
    {
     "data": {
      "image/png": "[encoded data removed]",
      "text/plain": [
       "<Figure size 640x480 with 1 Axes>"
      ]
     },
     "metadata": {},
     "output_type": "display_data"
    }
   ],
   "source": [
    "# X-axis values: number of messages to check\n",
    "total_messages = len(messages)\n",
    "# Ensure limit is never greater than total_messages\n",
    "x_values = range(1, len(messages) + 1, 200)\n",
    "\n",
    "# Y-axis values: time taken for each x\n",
    "y_values = [time_brute_force_similarities(messages, limit, 5) for limit in x_values]\n",
    "\n",
    "plt.plot(x_values, y_values, marker='o', linestyle='-', color='blue')\n",
    "\n",
    "plt.title(\"Brute Force Similarity Time vs Number of Messages\")\n",
    "plt.xlabel(\"Number of Messages\")\n",
    "plt.ylabel(\"Time (seconds)\")\n",
    "\n",
    "plt.show()"
   ]
  },
  {
   "cell_type": "markdown",
   "metadata": {},
   "source": [
    "The plot clearly shows that as the number of messages increases, the time taken to perform the brute force similarity computations also increases. What is more, if `n` is the number of messages, the time complexity is approximately O(n<sup>2</sup>). This can be explained because the brute force algorithm compares each message to every other message. As a result, for small values of x the time stays at a relatively low value; however, when the number of messages approaches 1000, the time taken is significantly higher. <p> Given that the brute force similarity has quadratic time complecity, if n is the number of messages, the time taken is proportional to n<sup>2</sup>. Looking at the plot, we see that the time taken for 500 messages is approximately 2 seconds. Hence, to approximate how long it would take to run the algorithm with the entire input matrix (35500 messages), we first compute the ratio of their squares. <p> Scaling factor = &nbsp; <span>&#40; <sup>35500</sup>&frasl;<sub>500</sub> &#41; <sup>2</sup> = 71<sup>2</sup> = 5041,\n",
    "</span>\n",
    "</p>which indicates that processing 35500 messages take 5041 times longer than processing 500 messages. Hence, <p> Time for the entire matrix = 2 seconds &times; 5041 = 10082 seconds, <p>which is 2 hours, 48 minutes, and 2 seconds."
   ]
  },
  {
   "cell_type": "markdown",
   "metadata": {},
   "source": [
    "# 4. Computing the doc-ngram matrix"
   ]
  },
  {
   "cell_type": "markdown",
   "metadata": {},
   "source": [
    "Now we will compute a matrix in which every row is an ngram, and every column is a document."
   ]
  },
  {
   "cell_type": "markdown",
   "metadata": {},
   "source": [
    "## 4.1 Create list of all ngrams"
   ]
  },
  {
   "cell_type": "markdown",
   "metadata": {},
   "source": [
    "The following code creates:\n",
    "* the dictionary `ngram_to_index`, which converts an ngram to an index (a row number),\n",
    "* the dictionary `index_to_ngram`, which cinverts an index to an ngram, and\n",
    "* the variable `num_distinct_ngrams`, which contains the number of distinct ngrams.\n",
    "* the list `valid_messages`, which stores the messages (documents) containing at least one ngram of size NGRAM_SIZE, filtering out those documents without any valid ngrams (either because they are too short or due to the cleaning process)."
   ]
  },
  {
   "cell_type": "code",
   "execution_count": 54,
   "metadata": {},
   "outputs": [],
   "source": [
    "NGRAM_SIZE = 4\n",
    "\n",
    "def ngram_to_index(messages):\n",
    "    \n",
    "    ngram_to_index = {}\n",
    "    index_to_ngram = {}\n",
    "    next_index = 0 # First available index\n",
    "    \n",
    "    valid_messages = [] # Store messages with valid ngrams\n",
    "    \n",
    "    for message in messages:\n",
    "        all_ngrams = ngrams(message, NGRAM_SIZE)\n",
    "        \n",
    "        has_valid_ngram = False\n",
    "        for ngram in all_ngrams:\n",
    "            if ngram not in ngram_to_index: # Distinct ngram found\n",
    "                ngram_to_index[ngram] = next_index\n",
    "                index_to_ngram[next_index] = ngram\n",
    "                next_index += 1\n",
    "            has_valid_ngram = True # Ngram of size NGRAM_SIZE\n",
    "    \n",
    "        # Only keep documents (messages) with at least one ngram of size NGRAM_SIZE\n",
    "        if has_valid_ngram:\n",
    "            valid_messages.append(message)\n",
    "\n",
    "    num_distinct_ngrams = next_index\n",
    "    \n",
    "    return ngram_to_index, index_to_ngram, num_distinct_ngrams, valid_messages"
   ]
  },
  {
   "cell_type": "code",
   "execution_count": 55,
   "metadata": {},
   "outputs": [
    {
     "name": "stdout",
     "output_type": "stream",
     "text": [
      "Number of valid documents:  9880\n",
      "Number of distinct n-grams:  54620\n"
     ]
    }
   ],
   "source": [
    "ngram_to_index_dict, index_to_ngram_dict, num_distinct_ngrams, valid_messages = ngram_to_index(messages)\n",
    "\n",
    "print(\"Number of valid documents: \", len(valid_messages))\n",
    "print(\"Number of distinct n-grams: \", num_distinct_ngrams)"
   ]
  },
  {
   "cell_type": "markdown",
   "metadata": {},
   "source": [
    "We now test our function by printing the `ngram_to_index` of the strings `els restaurants han reduir` and `supera fins tot mateix` and the `index_to_ngram` of the returned index."
   ]
  },
  {
   "cell_type": "code",
   "execution_count": 56,
   "metadata": {},
   "outputs": [
    {
     "name": "stdout",
     "output_type": "stream",
     "text": [
      "els restaurants han de reduir: index 14\n",
      "supera fins tot mateix: index 36\n",
      "index 14: els restaurants han reduir\n",
      "index 36: supera fins tot mateix\n"
     ]
    }
   ],
   "source": [
    "index1 = ngram_to_index_dict['els restaurants han reduir']\n",
    "index2 = ngram_to_index_dict['supera fins tot mateix']\n",
    "\n",
    "print(\"els restaurants han de reduir: index\", index1)\n",
    "print(\"supera fins tot mateix: index\", index2)\n",
    "\n",
    "string1 = index_to_ngram_dict[14]\n",
    "string2 = index_to_ngram_dict[36]\n",
    "\n",
    "print(\"index 14:\", string1)\n",
    "print(\"index 36:\", string2)"
   ]
  },
  {
   "cell_type": "markdown",
   "metadata": {},
   "source": [
    "## 4.2 Create table ngrams x documents"
   ]
  },
  {
   "cell_type": "markdown",
   "metadata": {},
   "source": [
    "Now we will create a boolean matrix named `M_ngram_doc`, where each row is an n-gram, and each column is a document. Note that we will use the `valid_messages` array to create the matrix."
   ]
  },
  {
   "cell_type": "code",
   "execution_count": 57,
   "metadata": {},
   "outputs": [
    {
     "name": "stdout",
     "output_type": "stream",
     "text": [
      "Matrix dimensions: 54620 rows (distinct shingles) x 9880 columns (distinct documents)\n"
     ]
    }
   ],
   "source": [
    "# LEAVE AS-IS\n",
    "\n",
    "# Create dense matrix in which every cell contains the value \"False\"\n",
    "M_ngram_doc = np.full((num_distinct_ngrams, len(valid_messages)), False)\n",
    "\n",
    "# Print the number of rows and columns of this matrix\n",
    "# numpy.matrix.shape is a tuple, shape[0] is the number of rows, shape[1] the number of columns\n",
    "print(\"Matrix dimensions: %d rows (distinct shingles) x %d columns (distinct documents)\" % M_ngram_doc.shape)"
   ]
  },
  {
   "cell_type": "markdown",
   "metadata": {},
   "source": [
    "The following code completes the matrix `M_ngram_doc` so that position i, j (row, column) holds a `True` if document j contains ngram i, otherwise holds `False`."
   ]
  },
  {
   "cell_type": "code",
   "execution_count": 58,
   "metadata": {},
   "outputs": [],
   "source": [
    "for docid in range(len(valid_messages)):\n",
    "    message = valid_messages[docid]\n",
    "    all_ngrams = ngrams(message, NGRAM_SIZE)\n",
    "    for ngram in all_ngrams:\n",
    "        if ngram in ngram_to_index_dict:\n",
    "            # Get which row in the matrix corresponds to the ngram\n",
    "            ngram_index = ngram_to_index_dict[ngram]\n",
    "            M_ngram_doc[ngram_index, docid] = True"
   ]
  },
  {
   "cell_type": "markdown",
   "metadata": {},
   "source": [
    "Below we measure the density of this matrix, as a percentage."
   ]
  },
  {
   "cell_type": "code",
   "execution_count": 59,
   "metadata": {},
   "outputs": [
    {
     "name": "stdout",
     "output_type": "stream",
     "text": [
      "Density of the matrix: 0.0206%\n"
     ]
    }
   ],
   "source": [
    "num_non_zeroes = np.sum(M_ngram_doc) # Number of True values\n",
    "\n",
    "total_cells = M_ngram_doc.shape[0] * M_ngram_doc.shape[1]\n",
    "\n",
    "density_percentage = (num_non_zeroes / total_cells) * 100\n",
    "\n",
    "print(\"Density of the matrix: %.4f%%\" % density_percentage)"
   ]
  },
  {
   "cell_type": "markdown",
   "metadata": {},
   "source": [
    "Finally, we print documents 16 and 941 of the `M_ngram_doc` matrix."
   ]
  },
  {
   "cell_type": "code",
   "execution_count": 60,
   "metadata": {},
   "outputs": [
    {
     "name": "stdout",
     "output_type": "stream",
     "text": [
      "\n",
      "Positions of non-zeros in column of docid 16\n",
      "\n",
      "Clean message:\n",
      " emergenciescat es demana a la ciutadania limitar al maxim i si es pot evitar desplacaments de cap de setmana tot el que sigui ma\n",
      "\n",
      "Non-zeros in corresponding row:\n",
      " ['178 (emergenciescat demana ciutadania limitar)', '179 (demana ciutadania limitar maxim)', '180 (ciutadania limitar maxim pot)', '181 (limitar maxim pot evitar)', '182 (maxim pot evitar desplacaments)', '183 (pot evitar desplacaments cap)', '184 (evitar desplacaments cap setmana)', '185 (desplacaments cap setmana tot)', '186 (cap setmana tot que)', '187 (setmana tot que sigui)']\n",
      "\n",
      "Positions of non-zeros in column of docid 941\n",
      "\n",
      "Clean message:\n",
      " vpartal els mossos diuen que es mes senzill confinar el principat que diverses ciutats a la vegada\n",
      "\n",
      "Non-zeros in corresponding row:\n",
      " ['457 (els mossos diuen que)', '458 (mossos diuen que mes)', '459 (diuen que mes senzill)', '460 (que mes senzill confinar)', '461 (mes senzill confinar principat)', '462 (senzill confinar principat que)', '463 (confinar principat que diverses)', '464 (principat que diverses ciutats)', '465 (que diverses ciutats vegada)', '936 (vpartal els mossos diuen)']\n"
     ]
    }
   ],
   "source": [
    "docid1 = 16\n",
    "docid2 = 941\n",
    "\n",
    "# Ensure valid docids\n",
    "if docid1 < len(valid_messages) and docid2 < len(valid_messages):\n",
    "\n",
    "    for docid in [docid1, docid2]:\n",
    "        clean_message = clean(valid_messages[docid])\n",
    "        # Get all the rows (n-grams) for the document with docid\n",
    "        doc_column = M_ngram_doc[:, docid]\n",
    "\n",
    "        # Get positions of non-zero entries\n",
    "        non_zero_indices = np.where(doc_column == True)[0]\n",
    "        \n",
    "        print(f\"\\nPositions of non-zeros in column of docid {docid}\\n\")\n",
    "        \n",
    "        print(f\"Clean message:\\n\", clean_message)\n",
    "        \n",
    "        non_zero_ngrams = [f\"{index} ({index_to_ngram_dict[index]})\" for index in non_zero_indices]\n",
    "        print(\"\\nNon-zeros in corresponding row:\\n\", non_zero_ngrams)   \n",
    "else:\n",
    "    print(\"One of the document IDs is out of range.\")"
   ]
  },
  {
   "cell_type": "markdown",
   "metadata": {},
   "source": [
    "# 3. Implement a permutation generator"
   ]
  },
  {
   "cell_type": "markdown",
   "metadata": {},
   "source": [
    "We will now implement the function `random_permutation(k)`, which  generates a random permutation of the array `[0, 2, 3, ..., k-1]`."
   ]
  },
  {
   "cell_type": "code",
   "execution_count": 61,
   "metadata": {},
   "outputs": [],
   "source": [
    "def random_permutation(k):\n",
    "    arr = list(range(k)) # Create list with elements from 0 to k-1\n",
    "    \n",
    "    random.shuffle(arr)\n",
    "    \n",
    "    return arr"
   ]
  },
  {
   "cell_type": "code",
   "execution_count": 62,
   "metadata": {},
   "outputs": [
    {
     "name": "stdout",
     "output_type": "stream",
     "text": [
      "[16, 12, 11, 5, 0, 2, 9, 13, 7, 17, 10, 4, 8, 15, 19, 14, 1, 3, 6, 18]\n"
     ]
    }
   ],
   "source": [
    "print(random_permutation(20))"
   ]
  },
  {
   "cell_type": "markdown",
   "metadata": {},
   "source": [
    "To further test our function, the follwing code prints two lists in the same ordering, so that *alpha* is in the same position as *test1*, *gamma* in the same position as *test2*, and so on."
   ]
  },
  {
   "cell_type": "code",
   "execution_count": 63,
   "metadata": {},
   "outputs": [
    {
     "name": "stdout",
     "output_type": "stream",
     "text": [
      "Test one permutation:\n",
      "['1 (test1)', '5 (test5)', '4 (test4)', '3 (test3)', '2 (test2)']\n",
      "['1 (alpha)', '5 (epsilon)', '4 (delta)', '3 (beta)', '2 (gamma)']\n",
      "\n",
      "Test another permutation\n",
      "['5 (test5)', '2 (test2)', '1 (test1)', '3 (test3)', '4 (test4)']\n",
      "['5 (epsilon)', '2 (gamma)', '1 (alpha)', '3 (beta)', '4 (delta)']\n"
     ]
    }
   ],
   "source": [
    "# LEAVE AS-IS\n",
    "\n",
    "# Permute a list according to a permutation\n",
    "def permuter(original_list, permutation):\n",
    "    permuted_list = []\n",
    "    for index in permutation:\n",
    "        permuted_list.append(original_list[index])\n",
    "    return permuted_list\n",
    "\n",
    "# Code for testing permutations\n",
    "original_list_1 = [\"1 (test1)\", \"2 (test2)\", \"3 (test3)\", \"4 (test4)\", \"5 (test5)\"]\n",
    "original_list_2 = [\"1 (alpha)\", \"2 (gamma)\", \"3 (beta)\", \"4 (delta)\", \"5 (epsilon)\"]\n",
    "\n",
    "print(\"Test one permutation:\")\n",
    "permutation_1 = random_permutation(5)\n",
    "print(permuter(original_list_1, permutation_1))\n",
    "print(permuter(original_list_2, permutation_1))\n",
    "\n",
    "print()\n",
    "\n",
    "print(\"Test another permutation\")\n",
    "permutation_2 = random_permutation(5)\n",
    "print(permuter(original_list_1, permutation_2))\n",
    "print(permuter(original_list_2, permutation_2))"
   ]
  },
  {
   "cell_type": "markdown",
   "metadata": {},
   "source": [
    "# 4. Compute the signature of each document"
   ]
  },
  {
   "cell_type": "markdown",
   "metadata": {},
   "source": [
    "We will create a new matrix `M_signature_doc` having a small number of rows (the *signature size*), which will be equivalent to the number of permutations we use. The number of columns will continue being the number of valid documents.\n",
    "\n",
    "First, we create the permutations and store them in an array of arrays named `permutations`."
   ]
  },
  {
   "cell_type": "code",
   "execution_count": 64,
   "metadata": {},
   "outputs": [
    {
     "name": "stdout",
     "output_type": "stream",
     "text": [
      "Permutation 0: 4967, 12576, 50629, 13165, ...\n",
      "Permutation 1: 32435, 39357, 47720, 17289, ...\n",
      "Permutation 2: 14910, 3181, 733, 50230, ...\n",
      "Permutation 3: 20120, 42491, 41841, 30619, ...\n",
      "Permutation 4: 16616, 1706, 34891, 38223, ...\n"
     ]
    }
   ],
   "source": [
    "# Leave this code as-is\n",
    "\n",
    "NUM_PERMUTATIONS = 5\n",
    "\n",
    "permutations = []\n",
    "\n",
    "# Create the permutations\n",
    "for i in range(NUM_PERMUTATIONS):\n",
    "    permutation = random_permutation(num_distinct_ngrams)\n",
    "    permutations.append(random_permutation(num_distinct_ngrams))\n",
    "    \n",
    "# Visualize the permutations by printing their first 4 elements\n",
    "for i in range(len(permutations)):\n",
    "    permutation = permutations[i]\n",
    "    print(\"Permutation %d: %d, %d, %d, %d, ...\" % (i,\n",
    "                permutation[0], permutation[1], permutation[2], permutation[3] ))"
   ]
  },
  {
   "cell_type": "markdown",
   "metadata": {},
   "source": [
    "Now, we implement the signature construction. The matrix `M_signature_doc` contains in row *i*, column *j*, the first ngram (the \"minimum\" one) that is present in a column (document), according to the order given by a permutation."
   ]
  },
  {
   "cell_type": "markdown",
   "metadata": {},
   "source": [
    "To do so, the following function finds the first n-gram that appears in a document, according to the ordering defined by a permutation."
   ]
  },
  {
   "cell_type": "code",
   "execution_count": 65,
   "metadata": {},
   "outputs": [],
   "source": [
    "# LEAVE AS-IS\n",
    "\n",
    "# Find the first ngram in a document, according to a permutation\n",
    "def find_first_one(docid, permutation):\n",
    "    for shingle_id in permutation:\n",
    "        if M_ngram_doc[shingle_id, docid] == True:\n",
    "            return shingle_id\n",
    "    return -1"
   ]
  },
  {
   "cell_type": "markdown",
   "metadata": {},
   "source": [
    "The code below creates the `M_signature_doc` matrix."
   ]
  },
  {
   "cell_type": "code",
   "execution_count": 66,
   "metadata": {},
   "outputs": [
    {
     "name": "stdout",
     "output_type": "stream",
     "text": [
      "Creating signatures for permutation 1/5\n",
      "- Scanning document 0 of 9880\n",
      "- Scanning document 1000 of 9880\n",
      "- Scanning document 2000 of 9880\n",
      "- Scanning document 3000 of 9880\n",
      "- Scanning document 4000 of 9880\n",
      "- Scanning document 5000 of 9880\n",
      "- Scanning document 6000 of 9880\n",
      "- Scanning document 7000 of 9880\n",
      "- Scanning document 8000 of 9880\n",
      "- Scanning document 9000 of 9880\n",
      "Creating signatures for permutation 2/5\n",
      "- Scanning document 0 of 9880\n",
      "- Scanning document 1000 of 9880\n",
      "- Scanning document 2000 of 9880\n",
      "- Scanning document 3000 of 9880\n",
      "- Scanning document 4000 of 9880\n",
      "- Scanning document 5000 of 9880\n",
      "- Scanning document 6000 of 9880\n",
      "- Scanning document 7000 of 9880\n",
      "- Scanning document 8000 of 9880\n",
      "- Scanning document 9000 of 9880\n",
      "Creating signatures for permutation 3/5\n",
      "- Scanning document 0 of 9880\n",
      "- Scanning document 1000 of 9880\n",
      "- Scanning document 2000 of 9880\n",
      "- Scanning document 3000 of 9880\n",
      "- Scanning document 4000 of 9880\n",
      "- Scanning document 5000 of 9880\n",
      "- Scanning document 6000 of 9880\n",
      "- Scanning document 7000 of 9880\n",
      "- Scanning document 8000 of 9880\n",
      "- Scanning document 9000 of 9880\n",
      "Creating signatures for permutation 4/5\n",
      "- Scanning document 0 of 9880\n",
      "- Scanning document 1000 of 9880\n",
      "- Scanning document 2000 of 9880\n",
      "- Scanning document 3000 of 9880\n",
      "- Scanning document 4000 of 9880\n",
      "- Scanning document 5000 of 9880\n",
      "- Scanning document 6000 of 9880\n",
      "- Scanning document 7000 of 9880\n",
      "- Scanning document 8000 of 9880\n",
      "- Scanning document 9000 of 9880\n",
      "Creating signatures for permutation 5/5\n",
      "- Scanning document 0 of 9880\n",
      "- Scanning document 1000 of 9880\n",
      "- Scanning document 2000 of 9880\n",
      "- Scanning document 3000 of 9880\n",
      "- Scanning document 4000 of 9880\n",
      "- Scanning document 5000 of 9880\n",
      "- Scanning document 6000 of 9880\n",
      "- Scanning document 7000 of 9880\n",
      "- Scanning document 8000 of 9880\n",
      "- Scanning document 9000 of 9880\n"
     ]
    }
   ],
   "source": [
    "M_signature_doc = np.full((NUM_PERMUTATIONS, len(valid_messages)), np.nan)\n",
    "\n",
    "# Create permutations\n",
    "for permutation_num in range(NUM_PERMUTATIONS):\n",
    "    print(\"Creating signatures for permutation %d/%d\" % (permutation_num + 1, NUM_PERMUTATIONS))\n",
    "    permutation = permutations[permutation_num]\n",
    "    \n",
    "    for docid in range(len(valid_messages)):\n",
    "        if docid % 1000 == 0:  \n",
    "            print(\"- Scanning document %d of %d\" % (docid, len(valid_messages)))\n",
    "        \n",
    "        # Find the first n-gram present\n",
    "        first_ngram_id = find_first_one(docid, permutation)\n",
    "        \n",
    "        # Store the result in the M_signature_doc matrix\n",
    "        M_signature_doc[permutation_num, docid] = first_ngram_id"
   ]
  },
  {
   "cell_type": "markdown",
   "metadata": {},
   "source": [
    "We now test our code by checking the signatures of two documents."
   ]
  },
  {
   "cell_type": "code",
   "execution_count": 67,
   "metadata": {},
   "outputs": [
    {
     "name": "stdout",
     "output_type": "stream",
     "text": [
      "Document #21\n",
      "Message       : El problema és económic... ja no és només que primi lo económic a lo personal, és que fins i tot en això el @govern s'equivoca, doncs al final la factura que s'haurà de pagar serà més gran.... ja és més gran del que hauria sigut de fer les coses bé i a temps. https://t.co/jFXHAMZHO0\n",
      "Clean message : el problema es economic ja no es nomes que primi lo economic a lo personal es que fins i tot en aixo el govern sequivoca doncs al final la factura que shaura de pagar sera mes gran ja es mes gran del que hauria sigut de fer les coses be i a temps\n",
      "Ngrams        : [231, 232, 233, 234, 235, 236, 237, 238, 239, 240, 241, 242, 243, 244, 245, 246, 247, 248, 249, 250, 251, 252, 253, 254, 255, 256, 257, 258, 259]\n",
      "Signature     : [250.0, 253.0, 244.0, 250.0, 257.0]\n",
      "\n",
      "Document #24\n",
      "Message       : RT @QuimTorraiPla: Seguiu les recomanacions: eviteu qualsevol desplaçament al màxim\n",
      "Clean message : quimtorraipla seguiu les recomanacions eviteu qualsevol desplacament al maxim\n",
      "Ngrams        : [279, 280, 281, 282, 283]\n",
      "Signature     : [283.0, 282.0, 280.0, 281.0, 280.0]\n"
     ]
    }
   ],
   "source": [
    "# Leave this code as-is\n",
    "\n",
    "def extract_ngrams(docid):\n",
    "    return [x for x in range(num_distinct_ngrams) if M_ngram_doc[x, docid] == True]\n",
    "\n",
    "def extract_signature(docid):\n",
    "    return [M_signature_doc[x, docid] for x in range(NUM_PERMUTATIONS)]\n",
    "\n",
    "def print_sig(messages, M_ngram_doc, M_signature_doc, i):\n",
    "    print(\"Document #%d\" % i)\n",
    "    print(\"Message       : %s\" % messages[i])\n",
    "    print(\"Clean message : %s\" % clean(messages[i]))\n",
    "    print(\"Ngrams        : %s\" % extract_ngrams(i))\n",
    "    print(\"Signature     : %s\" % extract_signature(i))\n",
    "\n",
    "# Print two messages and their signatures\n",
    "\n",
    "print_sig(messages, M_ngram_doc, M_signature_doc, 21)\n",
    "print()\n",
    "print_sig(messages, M_ngram_doc, M_signature_doc, 24)"
   ]
  },
  {
   "cell_type": "markdown",
   "metadata": {},
   "source": [
    "# 5. Compare all pairs of signatures"
   ]
  },
  {
   "cell_type": "markdown",
   "metadata": {},
   "source": [
    "We will consider that if two documents have *similarity == 1.0* they are a *full signature match*, and if two documents have *0.2 < similarity < 1.0* they are a *partial signature match*. In both cases, this may mean the documents are duplicates or near duplicates.\n",
    "\n",
    "The following code compares all pairs of documents by their signatures, instead of by their content. In addition, it prints the following:\n",
    "* All documents having at least X signature matches, considering both full matches and partial matches. X is 0.5% of the number of valid documents.\n",
    "* All documents having more partial matches than full matches, where the number of partial matches is at least `min_partial_matches = 5`. This is done in order to correctly identify documents with a significant number of partial matches that do not have enough total matches to meet the 0.5% threshold."
   ]
  },
  {
   "cell_type": "code",
   "execution_count": 105,
   "metadata": {},
   "outputs": [
    {
     "name": "stdout",
     "output_type": "stream",
     "text": [
      "0/9880 documents scanned\n",
      "Document 8 has 0 full matches and 8 partial matches.\n",
      "Document 16 has 71 full matches and 18 partial matches.\n",
      "Document 32 has 20 full matches and 26 partial matches.\n",
      "Document 53 has 57 full matches and 0 partial matches.\n",
      "Document 54 has 0 full matches and 8 partial matches.\n",
      "Document 165 has 56 full matches and 0 partial matches.\n",
      "Document 323 has 65 full matches and 0 partial matches.\n",
      "Document 386 has 2 full matches and 7 partial matches.\n",
      "Document 464 has 0 full matches and 8 partial matches.\n",
      "500/9880 documents scanned\n",
      "Document 635 has 10 full matches and 18 partial matches.\n",
      "Document 778 has 0 full matches and 5 partial matches.\n",
      "Document 835 has 0 full matches and 5 partial matches.\n",
      "1000/9880 documents scanned\n",
      "Document 1141 has 1 full matches and 8 partial matches.\n",
      "1500/9880 documents scanned\n",
      "2000/9880 documents scanned\n",
      "2500/9880 documents scanned\n",
      "Document 2946 has 0 full matches and 5 partial matches.\n",
      "3000/9880 documents scanned\n",
      "3500/9880 documents scanned\n",
      "Document 3730 has 0 full matches and 7 partial matches.\n",
      "Document 5003 has 176 full matches and 0 partial matches.\n",
      "Document 5035 has 66 full matches and 0 partial matches.\n",
      "Document 5043 has 71 full matches and 0 partial matches.\n",
      "Document 5055 has 54 full matches and 0 partial matches.\n",
      "Document 5196 has 54 full matches and 0 partial matches.\n",
      "Document 5337 has 7 full matches and 11 partial matches.\n",
      "Document 5479 has 1 full matches and 14 partial matches.\n",
      "5500/9880 documents scanned\n",
      "Document 5558 has 80 full matches and 0 partial matches.\n",
      "Document 5624 has 0 full matches and 6 partial matches.\n",
      "Document 6338 has 0 full matches and 5 partial matches.\n",
      "Document 7080 has 1 full matches and 9 partial matches.\n"
     ]
    }
   ],
   "source": [
    "is_possible_duplicate = {} # Track possible duplicates\n",
    "\n",
    "threshold = 0.005 * len(valid_messages) # Set threshold to 0.5% of the number of documents\n",
    "min_partial_matches = 5 # Minimum number of partial matches to display the document\n",
    "\n",
    "# Iterate through all documents\n",
    "for docid1 in range(len(valid_messages)):\n",
    "\n",
    "     # Do not examine again a document that is a possible duplicate\n",
    "    if docid1 not in is_possible_duplicate:\n",
    "\n",
    "        # Counters for full and partial signature matches\n",
    "        count_sig_full_matches = 0\n",
    "        count_sig_partial_matches = 0\n",
    "\n",
    "        # Extract the signature of the doc1\n",
    "        signature1 = extract_signature(docid1)\n",
    "        if docid1 % 500 == 0:\n",
    "            print(\"%d/%d documents scanned\" % (docid1, len(valid_messages)))\n",
    "\n",
    "        # Iterate through documents with docid larger than doc1\n",
    "        for docid2 in range(docid1+1, len(valid_messages)):\n",
    "\n",
    "            # If this has not already been marked as duplicate of another document\n",
    "            if docid2 not in is_possible_duplicate:\n",
    "\n",
    "                # Extract signature of doc2\n",
    "                signature2 = extract_signature(docid2)\n",
    "                \n",
    "                # Compute similarity\n",
    "                similarity = jaccard_similarity(signature1, signature2)\n",
    "                \n",
    "                if similarity == 1.0:\n",
    "                    count_sig_full_matches += 1\n",
    "                    is_possible_duplicate[docid2] = True\n",
    "\n",
    "                elif 0.2 < similarity < 1.0:\n",
    "                    count_sig_partial_matches += 1\n",
    "                    is_possible_duplicate[docid2] = True\n",
    "        \n",
    "        total_matches = count_sig_full_matches + count_sig_partial_matches\n",
    "        \n",
    "        # To be able to identify tweets with a significant number of partial matches\n",
    "        if count_sig_partial_matches > count_sig_full_matches and count_sig_partial_matches >= min_partial_matches:\n",
    "            print(f\"Document {docid1} has {count_sig_full_matches} full matches and {count_sig_partial_matches} partial matches.\")\n",
    "        if total_matches >= threshold:\n",
    "            print(f\"Document {docid1} has {count_sig_full_matches} full matches and {count_sig_partial_matches} partial matches.\")"
   ]
  },
  {
   "cell_type": "code",
   "execution_count": 113,
   "metadata": {
    "scrolled": true
   },
   "outputs": [
    {
     "name": "stdout",
     "output_type": "stream",
     "text": [
      "Document #5003\n",
      "Message       : RT @emergenciescat: Què puc fer i que no? FAQs del #coronavirus a 14 de març. si us plau, demanem difusió. https://t.co/D5HNxwYjwK\n",
      "Clean message : emergenciescat que puc fer i que no faqs del coronavirus a 14 de marc si us plau demanem difusio\n",
      "Ngrams        : [871, 872, 31428, 31429, 31430, 31431, 31432, 31433, 31434]\n",
      "Signature     : [31433.0, 31434.0, 31429.0, 31431.0, 872.0]\n"
     ]
    }
   ],
   "source": [
    "print_sig(valid_messages, M_ngram_doc, M_signature_doc, 5003)"
   ]
  },
  {
   "cell_type": "markdown",
   "metadata": {},
   "source": [
    "Above we display the full text of the original tweet of document 5003, with 176 full matches and 0 partial matches. This suggests that the tweet was not changed when copied or re-tweeted. To understand this behaviour, it should be noted that the author of the original tweet is the official emergency organisation of the Catalan government (`emergenciescat`). Hence, rephrasing the text might cause users to doubt the reliability of the information. What is more, since it is an urgent safety message, users sharing this information wanted to spread the information quickly, and this purpose stopped them from modifying the tweet."
   ]
  },
  {
   "cell_type": "code",
   "execution_count": 107,
   "metadata": {},
   "outputs": [
    {
     "name": "stdout",
     "output_type": "stream",
     "text": [
      "Original Document:\n",
      "Document #3730\n",
      "Message       : RT @324cat: ▶️\"Si tots limitéssim, restringíssim la nostra vida social en els pròxims 14 dies, podríem aturar l'epidèmia de coronavirus al…\n",
      "Clean message : 324cat si tots limitessim restringissim la nostra vida social en els proxims 14 dies podriem aturar lepidemia de coronavirus al\n",
      "Ngrams        : [24645, 24646, 24647, 24648, 24649, 24650, 24651, 24652, 24653, 24654, 24655]\n",
      "Signature     : [24648.0, 24648.0, 24650.0, 24645.0, 24649.0]\n",
      "\n",
      "Near Duplicate:\n",
      "Document #5414\n",
      "Message       : RT @324cat: \"Si tots limitéssim la nostra vida social els pròxims 14 dies, podríem parar l'epidèmia de coronavirus”, assegura Anna Llupià i…\n",
      "Clean message : 324cat si tots limitessim la nostra vida social els proxims 14 dies podriem parar lepidemia de coronavirus assegura anna llupia i\n",
      "Ngrams        : [24649, 24650, 24651, 24652, 33997, 33998, 33999, 34000, 34001, 34002, 34003, 34004, 34005]\n",
      "Signature     : [33999.0, 34001.0, 24650.0, 24650.0, 24649.0]\n"
     ]
    }
   ],
   "source": [
    "print(\"Original Document:\")\n",
    "print_sig(valid_messages, M_ngram_doc, M_signature_doc, 3730)\n",
    "\n",
    "print(\"\\nNear Duplicate:\")\n",
    "print_sig(valid_messages, M_ngram_doc, M_signature_doc, 5414)"
   ]
  },
  {
   "cell_type": "markdown",
   "metadata": {},
   "source": [
    "Above we print the full message of the original tweet of document 3730, that has 0 full matches and 7 partial matches. In addition, we display document 5414, which is classified as a partial match by our function. Indeed, it can be observed that both tweets emphasize the need to restrict social interaction in the upcoming 14 days to stop the spread of coronavirus. However, there are some key differences in wording: the word \"restringíssim\" does not appear in tweet 5414 and tweet 5414 uses \"parar\" instead of \"aturar\". What is more, tweet 5414 includes the source of the quote, the expert Anna Llupià. These slight variations make tweets 3730 and 5414 partial matches."
   ]
  },
  {
   "cell_type": "markdown",
   "metadata": {},
   "source": [
    "<font size=\"+2\" color=\"#003300\">I hereby declare that, except for the code provided by the course instructors, all of my code, report, and figures were produced by myself.</font>"
   ]
  }
 ],
 "metadata": {
  "kernelspec": {
   "display_name": "Python 3 (ipykernel)",
   "language": "python",
   "name": "python3"
  },
  "language_info": {
   "codemirror_mode": {
    "name": "ipython",
    "version": 3
   },
   "file_extension": ".py",
   "mimetype": "text/x-python",
   "name": "python",
   "nbconvert_exporter": "python",
   "pygments_lexer": "ipython3",
   "version": "3.11.5"
  }
 },
 "nbformat": 4,
 "nbformat_minor": 2
}
